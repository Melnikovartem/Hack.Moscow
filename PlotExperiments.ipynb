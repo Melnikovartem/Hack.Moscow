{
 "cells": [
  {
   "cell_type": "code",
   "execution_count": null,
   "metadata": {},
   "outputs": [],
   "source": [
    "import matplotlib.pyplot as plt\n",
    "import json\n",
    "from income_parser import IncomeParser\n",
    "from collections import defaultdict\n",
    "from math import log10"
   ]
  },
  {
   "cell_type": "code",
   "execution_count": null,
   "metadata": {},
   "outputs": [],
   "source": [
    "incomes = IncomeParser.request_income(pages=100, region=77)"
   ]
  },
  {
   "cell_type": "code",
   "execution_count": null,
   "metadata": {},
   "outputs": [],
   "source": [
    "inc = []\n",
    "for person in incomes:\n",
    "    inc.append(int(person['income']))\n",
    "inc.sort()\n",
    "total = len(inc)"
   ]
  },
  {
   "cell_type": "code",
   "execution_count": null,
   "metadata": {},
   "outputs": [],
   "source": [
    "plt.scatter(range(len(inc)), inc)\n",
    "#plt.yscale('log')\n",
    "plt.show()"
   ]
  },
  {
   "cell_type": "code",
   "execution_count": null,
   "metadata": {},
   "outputs": [],
   "source": [
    "first_digit = defaultdict(int)\n",
    "for rubles in inc:\n",
    "    str_rep = str(rubles)\n",
    "    first_digit[str_rep[0]] += 1\n",
    "first_digit = list(first_digit.items())\n",
    "first_digit.sort()"
   ]
  },
  {
   "cell_type": "code",
   "execution_count": null,
   "metadata": {},
   "outputs": [],
   "source": [
    "first_digit"
   ]
  },
  {
   "cell_type": "code",
   "execution_count": null,
   "metadata": {},
   "outputs": [],
   "source": [
    "plt.plot(range(1, 10), [a[1]/total for a in first_digit if a[0] != '0'])\n",
    "plt.plot(range(1, 10), [log10(1 + 1/d) for d in range(1, 10)])\n",
    "plt.show()"
   ]
  },
  {
   "cell_type": "code",
   "execution_count": null,
   "metadata": {},
   "outputs": [],
   "source": [
    "second_digit = defaultdict(int)\n",
    "for rubles in inc:\n",
    "    str_rep = str(rubles)\n",
    "    if len(str_rep) <= 1:\n",
    "        print('Странно малый доход ', str_rep)\n",
    "        continue\n",
    "    second_digit[str_rep[1]] += 1\n",
    "second_digit = list(second_digit.items())\n",
    "second_digit.sort()"
   ]
  },
  {
   "cell_type": "code",
   "execution_count": null,
   "metadata": {},
   "outputs": [],
   "source": [
    "second_digit"
   ]
  },
  {
   "cell_type": "code",
   "execution_count": null,
   "metadata": {},
   "outputs": [],
   "source": [
    "second_digit_prob = [0]*10\n",
    "for d in range(10):\n",
    "    for fd in range(1, 10):\n",
    "        if 10 * fd + d == 0:\n",
    "            continue\n",
    "        second_digit_prob[d] += (log10(1 + 1 / (10 * fd + d)))"
   ]
  },
  {
   "cell_type": "code",
   "execution_count": null,
   "metadata": {},
   "outputs": [],
   "source": [
    "plt.plot([a[1]/total for a in second_digit])\n",
    "plt.plot(second_digit_prob)"
   ]
  },
  {
   "cell_type": "code",
   "execution_count": null,
   "metadata": {},
   "outputs": [],
   "source": []
  }
 ],
 "metadata": {
  "kernelspec": {
   "display_name": "Python 3",
   "language": "python",
   "name": "python3"
  },
  "language_info": {
   "codemirror_mode": {
    "name": "ipython",
    "version": 3
   },
   "file_extension": ".py",
   "mimetype": "text/x-python",
   "name": "python",
   "nbconvert_exporter": "python",
   "pygments_lexer": "ipython3",
   "version": "3.6.8"
  }
 },
 "nbformat": 4,
 "nbformat_minor": 4
}
