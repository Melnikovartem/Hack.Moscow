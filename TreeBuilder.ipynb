{
 "cells": [
  {
   "cell_type": "code",
   "execution_count": 97,
   "metadata": {},
   "outputs": [],
   "source": [
    "import pandas as pd\n",
    "import numpy as np\n",
    "from income_parser import IncomeParser\n",
    "from declarator_generator import declarator_generator\n",
    "import requests\n",
    "API = 'https://declarator.org/api/v1/search/sections'"
   ]
  },
  {
   "cell_type": "code",
   "execution_count": 121,
   "metadata": {},
   "outputs": [],
   "source": [
    "from sklearn.ensemble import IsolationForest\n",
    "from sklearn.svm import OneClassSVM"
   ]
  },
  {
   "cell_type": "code",
   "execution_count": 87,
   "metadata": {},
   "outputs": [],
   "source": [
    "offices = pd.read_csv('offices.csv', sep=';').set_index('id')"
   ]
  },
  {
   "cell_type": "code",
   "execution_count": 88,
   "metadata": {},
   "outputs": [],
   "source": [
    "tree = {}\n",
    "parent = {}"
   ]
  },
  {
   "cell_type": "code",
   "execution_count": 89,
   "metadata": {},
   "outputs": [],
   "source": [
    "for row in offices['parent_id'].items():\n",
    "    if not np.isnan(row[1]):\n",
    "        a, b = int(row[0]), int(row[1])\n",
    "        if b not in tree:\n",
    "            tree[b] = []\n",
    "        tree[b].append(a)\n",
    "        parent[a] = b\n",
    "        "
   ]
  },
  {
   "cell_type": "code",
   "execution_count": 180,
   "metadata": {},
   "outputs": [],
   "source": [
    "def root_office(office, up = 2):\n",
    "    for i in range(up):\n",
    "        if office in parent:\n",
    "            office = parent[office]\n",
    "        else:\n",
    "            return office\n",
    "    return office\n",
    "def single_office_data(office):\n",
    "    for res in declarator_generator(requests.get(API, {'office': office})):\n",
    "        income = 0\n",
    "        for inc in res['incomes']:\n",
    "            income += inc['size']\n",
    "        square = 0\n",
    "        for est in res['real_estates']:\n",
    "            if est['square'] is not None:\n",
    "                square += est['square']\n",
    "        yield {'id' : res['main']['person']['id'], 'income': income, 'square': square}\n",
    "def recursive_office_data(office):\n",
    "    for res in single_office_data(office):\n",
    "        yield res\n",
    "    for child in tree.get(office, []):\n",
    "        for res in recursive_office_data(child):\n",
    "            yield res\n",
    "def outlier_k(incomes):\n",
    "    data = pd.DataFrame(incomes).set_index('id')\n",
    "    model = IsolationForest(n_estimators=200)\n",
    "    return (1 - sum(list(map(lambda x: max(x, 0),model.fit_predict(data)))) / len(data)) ** 3\n",
    "def office_id_to_outlier_k(office):\n",
    "    return outlier_k(list(recursive_office_data(root_office(office))))"
   ]
  },
  {
   "cell_type": "code",
   "execution_count": 181,
   "metadata": {},
   "outputs": [
    {
     "name": "stdout",
     "output_type": "stream",
     "text": [
      "Retrieving another page...\n"
     ]
    },
    {
     "name": "stderr",
     "output_type": "stream",
     "text": [
      "/home/xallt/.local/lib/python3.7/site-packages/sklearn/ensemble/iforest.py:237: FutureWarning: default contamination parameter 0.1 will change in version 0.22 to \"auto\". This will change the predict method behavior.\n",
      "  FutureWarning)\n",
      "/home/xallt/.local/lib/python3.7/site-packages/sklearn/ensemble/iforest.py:247: FutureWarning: behaviour=\"old\" is deprecated and will be removed in version 0.22. Please use behaviour=\"new\", which makes the decision_function change to match other anomaly detection algorithm API.\n",
      "  FutureWarning)\n"
     ]
    },
    {
     "data": {
      "text/plain": [
       "0.0011070564598794535"
      ]
     },
     "execution_count": 181,
     "metadata": {},
     "output_type": "execute_result"
    }
   ],
   "source": [
    "outlier_k(list(recursive_office_data(4327)))"
   ]
  },
  {
   "cell_type": "code",
   "execution_count": 135,
   "metadata": {},
   "outputs": [
    {
     "name": "stdout",
     "output_type": "stream",
     "text": [
      "Retrieving another page...\n"
     ]
    }
   ],
   "source": [
    "data = list(recursive_office_data(4327))\n",
    "data = pd.DataFrame(data).set_index('id')"
   ]
  },
  {
   "cell_type": "code",
   "execution_count": 167,
   "metadata": {},
   "outputs": [
    {
     "name": "stderr",
     "output_type": "stream",
     "text": [
      "/home/xallt/.local/lib/python3.7/site-packages/sklearn/ensemble/iforest.py:237: FutureWarning: default contamination parameter 0.1 will change in version 0.22 to \"auto\". This will change the predict method behavior.\n",
      "  FutureWarning)\n",
      "/home/xallt/.local/lib/python3.7/site-packages/sklearn/ensemble/iforest.py:247: FutureWarning: behaviour=\"old\" is deprecated and will be removed in version 0.22. Please use behaviour=\"new\", which makes the decision_function change to match other anomaly detection algorithm API.\n",
      "  FutureWarning)\n"
     ]
    },
    {
     "data": {
      "text/plain": [
       "IsolationForest(behaviour='old', bootstrap=False, contamination='legacy',\n",
       "                max_features=1.0, max_samples='auto', n_estimators=100,\n",
       "                n_jobs=None, random_state=None, verbose=0, warm_start=False)"
      ]
     },
     "execution_count": 167,
     "metadata": {},
     "output_type": "execute_result"
    }
   ],
   "source": [
    "model = IsolationForest(max_features=1.0)\n",
    "model.fit(data)"
   ]
  },
  {
   "cell_type": "code",
   "execution_count": 168,
   "metadata": {},
   "outputs": [
    {
     "data": {
      "text/plain": [
       "array([ 0.06591126,  0.04621343, -0.0705381 ,  0.04343289,  0.05849394,\n",
       "        0.05571637,  0.06331052, -0.33904038, -0.14304633, -0.02082732,\n",
       "       -0.06545507,  0.02851094, -0.17388995, -0.03286956,  0.05911688,\n",
       "        0.00969374,  0.03536948,  0.05718835,  0.04888143, -0.34777768,\n",
       "       -0.07107797, -0.0952977 ,  0.06916707, -0.29259544,  0.01151065,\n",
       "       -0.29023923,  0.07145108,  0.05648347,  0.05551878,  0.05269319,\n",
       "       -0.02472848,  0.03815823, -0.02901602,  0.04300679,  0.05947079,\n",
       "        0.04013149, -0.02802203, -0.07161741,  0.05572588,  0.0574561 ,\n",
       "        0.04620474,  0.05470529,  0.05555937,  0.00600316,  0.03693665,\n",
       "        0.04520614,  0.0369687 , -0.09024297,  0.03083109, -0.00304911,\n",
       "       -0.10114966, -0.02152877,  0.00265417,  0.03417893, -0.13602862,\n",
       "        0.04892493,  0.04985976,  0.01692514,  0.01887091, -0.14709996,\n",
       "        0.0562523 ,  0.03221447,  0.06751263,  0.0573232 ,  0.04506865,\n",
       "       -0.01293277,  0.03245062,  0.0704143 ,  0.0345998 ,  0.03814612,\n",
       "        0.06458441,  0.05935214, -0.01118062,  0.028887  ,  0.03387605,\n",
       "       -0.00848176,  0.03161324, -0.01781438,  0.01211883,  0.04490585,\n",
       "        0.05540781,  0.04249809,  0.04840765,  0.04028529, -0.01479395,\n",
       "        0.02459833,  0.07338271])"
      ]
     },
     "execution_count": 168,
     "metadata": {},
     "output_type": "execute_result"
    }
   ],
   "source": [
    "score = model.score_samples(data)\n",
    "score - np.mean(score)"
   ]
  },
  {
   "cell_type": "code",
   "execution_count": 92,
   "metadata": {},
   "outputs": [
    {
     "data": {
      "text/plain": [
       "<matplotlib.collections.PathCollection at 0x7faf0ac09410>"
      ]
     },
     "execution_count": 92,
     "metadata": {},
     "output_type": "execute_result"
    },
    {
     "data": {
      "image/png": "[encoded data removed]",
      "text/plain": [
       "<Figure size 432x288 with 1 Axes>"
      ]
     },
     "metadata": {
      "needs_background": "light"
     },
     "output_type": "display_data"
    }
   ],
   "source": [
    "import matplotlib.pyplot as plt\n",
    "%matplotlib inline\n",
    "inc = list(map(lambda x : x['income'], incomes))\n",
    "#plt.yscale('log')\n",
    "plt.scatter(range(len(incomes)), sorted(inc))"
   ]
  }
 ],
 "metadata": {
  "kernelspec": {
   "display_name": "Python 3",
   "language": "python",
   "name": "python3"
  },
  "language_info": {
   "codemirror_mode": {
    "name": "ipython",
    "version": 3
   },
   "file_extension": ".py",
   "mimetype": "text/x-python",
   "name": "python",
   "nbconvert_exporter": "python",
   "pygments_lexer": "ipython3",
   "version": "3.7.5rc1"
  }
 },
 "nbformat": 4,
 "nbformat_minor": 2
}
