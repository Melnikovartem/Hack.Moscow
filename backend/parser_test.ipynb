{
 "cells": [
  {
   "cell_type": "code",
   "execution_count": 19,
   "metadata": {},
   "outputs": [
    {
     "name": "stdout",
     "output_type": "stream",
     "text": [
      "None\n"
     ]
    }
   ],
   "source": [
    "import urllib.request, json\n",
    "data = {'next':\"https://declarator.org/api/v1/search/sections/?page=2&person=91\"}\n",
    "years = []\n",
    "savings = [] \n",
    "cars = []\n",
    "income = []\n",
    "\n",
    "\n",
    "while data:\n",
    "    with urllib.request.urlopen(data[\"next\"]) as url:\n",
    "        data = json.loads(url.read().decode())\n",
    "    #append\n",
    "    \n",
    "return "
   ]
  },
  {
   "cell_type": "code",
   "execution_count": null,
   "metadata": {},
   "outputs": [],
   "source": [
    "import requests\n",
    "def declarator_generator(response):\n",
    "    for res in response.json()['results']:\n",
    "        yield res\n",
    "    print('Gettings the rest')\n",
    "    while response.json()['next'] is not None:\n",
    "        response = requests.get(response.json()['next'])\n",
    "        for res in response.json()['results']:\n",
    "            yield res\n"
   ]
  }
 ],
 "metadata": {
  "kernelspec": {
   "display_name": "Python 3",
   "language": "python",
   "name": "python3"
  },
  "language_info": {
   "codemirror_mode": {
    "name": "ipython",
    "version": 3
   },
   "file_extension": ".py",
   "mimetype": "text/x-python",
   "name": "python",
   "nbconvert_exporter": "python",
   "pygments_lexer": "ipython3",
   "version": "3.7.3"
  }
 },
 "nbformat": 4,
 "nbformat_minor": 2
}
