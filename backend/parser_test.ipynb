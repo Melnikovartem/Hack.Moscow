{
 "cells": [
  {
   "cell_type": "code",
   "execution_count": 24,
   "metadata": {},
   "outputs": [],
   "source": [
    "def gender_sort(data_struc, family):\n",
    "    pass\n",
    "def party_sort(data_struc, family):\n",
    "    pass\n",
    "def medium_sort(data_struc, family):\n",
    "    pass\n",
    "#data_struc - список по годам деклараций людей"
   ]
  },
  {
   "cell_type": "code",
   "execution_count": 33,
   "metadata": {},
   "outputs": [],
   "source": [
    "import urllib.request, json\n",
    "\n",
    "#стандартный набор данных: список по годам деклараций \n",
    "def get_data_office(x):\n",
    "    data_struc = {} \n",
    "    data = {'next':\"https://declarator.org/api/v1/search/sections/?office=\"+str(x)}\n",
    "\n",
    "    while data[\"next\"]:\n",
    "        with urllib.request.urlopen(data[\"next\"]) as url:\n",
    "            data = json.loads(url.read().decode())\n",
    "        for i in data[\"results\"]:\n",
    "            if i[\"main\"][\"year\"] not in data_struc:\n",
    "                data_struc[i[\"main\"][\"year\"]] = []\n",
    "            data_struc[i[\"main\"][\"year\"]].append(i)\n",
    "        print(data[\"next\"])\n",
    "    #надо обойти всех child и вызвать одну их функций из пред ячейки\n",
    "    for i in child_list:\n",
    "        child_data = get_data_office(i)\n",
    "        for j in child_data:\n",
    "            if j not in data_struc:\n",
    "                data_struc[j] = []\n",
    "            data_struc[j] += child_data[j]\n",
    "        \n",
    "    return data_struc"
   ]
  },
  {
   "cell_type": "code",
   "execution_count": 34,
   "metadata": {},
   "outputs": [
    {
     "name": "stdout",
     "output_type": "stream",
     "text": [
      "https://declarator.org/api/v1/search/sections/?office=10&page=2\n",
      "https://declarator.org/api/v1/search/sections/?office=10&page=3\n",
      "https://declarator.org/api/v1/search/sections/?office=10&page=4\n",
      "https://declarator.org/api/v1/search/sections/?office=10&page=5\n",
      "https://declarator.org/api/v1/search/sections/?office=10&page=6\n",
      "https://declarator.org/api/v1/search/sections/?office=10&page=7\n",
      "https://declarator.org/api/v1/search/sections/?office=10&page=8\n",
      "https://declarator.org/api/v1/search/sections/?office=10&page=9\n",
      "https://declarator.org/api/v1/search/sections/?office=10&page=10\n",
      "https://declarator.org/api/v1/search/sections/?office=10&page=11\n",
      "https://declarator.org/api/v1/search/sections/?office=10&page=12\n",
      "https://declarator.org/api/v1/search/sections/?office=10&page=13\n",
      "None\n"
     ]
    },
    {
     "ename": "NameError",
     "evalue": "name 'child_list' is not defined",
     "output_type": "error",
     "traceback": [
      "\u001b[0;31m---------------------------------------------------------------------------\u001b[0m",
      "\u001b[0;31mNameError\u001b[0m                                 Traceback (most recent call last)",
      "\u001b[0;32m<ipython-input-34-099ccd57b9ca>\u001b[0m in \u001b[0;36m<module>\u001b[0;34m\u001b[0m\n\u001b[0;32m----> 1\u001b[0;31m \u001b[0mget_data_office\u001b[0m\u001b[0;34m(\u001b[0m\u001b[0;36m10\u001b[0m\u001b[0;34m)\u001b[0m\u001b[0;34m\u001b[0m\u001b[0;34m\u001b[0m\u001b[0m\n\u001b[0m",
      "\u001b[0;32m<ipython-input-33-2a08e82350ad>\u001b[0m in \u001b[0;36mget_data_office\u001b[0;34m(x)\u001b[0m\n\u001b[1;32m     15\u001b[0m         \u001b[0mprint\u001b[0m\u001b[0;34m(\u001b[0m\u001b[0mdata\u001b[0m\u001b[0;34m[\u001b[0m\u001b[0;34m\"next\"\u001b[0m\u001b[0;34m]\u001b[0m\u001b[0;34m)\u001b[0m\u001b[0;34m\u001b[0m\u001b[0;34m\u001b[0m\u001b[0m\n\u001b[1;32m     16\u001b[0m     \u001b[0;31m#надо обойти всех child и вызвать одну их функций из пред ячейки\u001b[0m\u001b[0;34m\u001b[0m\u001b[0;34m\u001b[0m\u001b[0;34m\u001b[0m\u001b[0m\n\u001b[0;32m---> 17\u001b[0;31m     \u001b[0;32mfor\u001b[0m \u001b[0mi\u001b[0m \u001b[0;32min\u001b[0m \u001b[0mchild_list\u001b[0m\u001b[0;34m:\u001b[0m\u001b[0;34m\u001b[0m\u001b[0;34m\u001b[0m\u001b[0m\n\u001b[0m\u001b[1;32m     18\u001b[0m         \u001b[0mchild_data\u001b[0m \u001b[0;34m=\u001b[0m \u001b[0mget_data_office\u001b[0m\u001b[0;34m(\u001b[0m\u001b[0mi\u001b[0m\u001b[0;34m)\u001b[0m\u001b[0;34m\u001b[0m\u001b[0;34m\u001b[0m\u001b[0m\n\u001b[1;32m     19\u001b[0m         \u001b[0;32mfor\u001b[0m \u001b[0mj\u001b[0m \u001b[0;32min\u001b[0m \u001b[0mchild_data\u001b[0m\u001b[0;34m:\u001b[0m\u001b[0;34m\u001b[0m\u001b[0;34m\u001b[0m\u001b[0m\n",
      "\u001b[0;31mNameError\u001b[0m: name 'child_list' is not defined"
     ]
    }
   ],
   "source": [
    "get_data_office(10)"
   ]
  },
  {
   "cell_type": "code",
   "execution_count": null,
   "metadata": {},
   "outputs": [],
   "source": [
    "class office_data:\n",
    "    def __init__(self, party_id):\n",
    "        data_struc = {} \n",
    "        data = {'next':\"https://declarator.org/api/v1/search/sections/?office=\"+str(x)}\n",
    "\n",
    "        while data[\"next\"]:\n",
    "            with urllib.request.urlopen(data[\"next\"]) as url:\n",
    "                data = json.loads(url.read().decode())\n",
    "            for i in data[\"results\"]:\n",
    "                if i[\"main\"][\"year\"] not in data_struc:\n",
    "                    data_struc[i[\"main\"][\"year\"]] = []\n",
    "                data_struc[i[\"main\"][\"year\"]].append(i)\n",
    "            print(data[\"next\"])\n",
    "        #надо обойти всех child и вызвать одну из функций sort\n",
    "        for i in child_list:\n",
    "            child_data = get_data_office(i)\n",
    "            for j in child_data:\n",
    "                if j not in data_struc:\n",
    "                    data_struc[j] = []\n",
    "                data_struc[j] += child_data[j]\n",
    "\n",
    "        self.data = data_struc\n",
    "        self.family = 0\n",
    "        \n",
    "    def gender_sort(self):\n",
    "        pass\n",
    "    def party_sort(self):\n",
    "        pass\n",
    "    def medium_sort(self):\n",
    "        pass\n",
    "    #data_struc - список по годам деклараций людей"
   ]
  }
 ],
 "metadata": {
  "kernelspec": {
   "display_name": "Python 3",
   "language": "python",
   "name": "python3"
  },
  "language_info": {
   "codemirror_mode": {
    "name": "ipython",
    "version": 3
   },
   "file_extension": ".py",
   "mimetype": "text/x-python",
   "name": "python",
   "nbconvert_exporter": "python",
   "pygments_lexer": "ipython3",
   "version": "3.7.3"
  }
 },
 "nbformat": 4,
 "nbformat_minor": 2
}
