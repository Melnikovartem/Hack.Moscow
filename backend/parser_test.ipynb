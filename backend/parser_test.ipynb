{
 "cells": [
  {
   "cell_type": "code",
   "execution_count": 9,
   "metadata": {},
   "outputs": [],
   "source": [
    "import urllib\n",
    "import json"
   ]
  },
  {
   "cell_type": "code",
   "execution_count": 88,
   "metadata": {},
   "outputs": [],
   "source": [
    "class office_data:\n",
    "    ask = \"https://declarator.org/api/v1/search/sections/?office=\"\n",
    "    \n",
    "    def find_children(self):\n",
    "        raise NotImplementedError\n",
    "    \n",
    "    def __init__(self, data):\n",
    "        self.data = data\n",
    "\n",
    "#     def __init__(self, office_id):\n",
    "#         self.office_id = office_id\n",
    "#         data_struct = {} \n",
    "#         data = {'next':self.ask+str(office_id)}\n",
    "\n",
    "#         while data[\"next\"]:\n",
    "#             with urllib.request.urlopen(data[\"next\"]) as url:\n",
    "#                 data = json.loads(url.read().decode())\n",
    "#             for i in data[\"results\"]:\n",
    "#                 if i[\"main\"][\"year\"] not in data_struct:\n",
    "#                     data_struct[i[\"main\"][\"year\"]] = []\n",
    "#                 data_struct[i[\"main\"][\"year\"]].append(i)\n",
    "#             print(data[\"next\"])\n",
    "# #         #надо обойти всех child и вызвать одну из функций sort\n",
    "# #         child_list = self.find_children()\n",
    "# #         for i in child_list:\n",
    "# #             child_data = get_data_office(i)\n",
    "# #             for j in child_data:\n",
    "# #                 if j not in data_struct:\n",
    "# #                     data_struct[j] = []\n",
    "# #                 data_struct[j] += child_data[j]\n",
    "\n",
    "#         self.data = data_struct # данные всех деклараций по годам\n",
    "#         self.family = 0 # учитывать ли семью\n",
    "        \n",
    "    def true_avg(self):\n",
    "        years = self.data.keys()\n",
    "        res = [0]  * len(years)\n",
    "        for i, year in enumerate(years):\n",
    "            curr_sum = 0\n",
    "            curr_amount = 0\n",
    "            for declaration in self.data[year]:\n",
    "                inc = declaration['incomes'][0]['size']\n",
    "                if inc == inc:\n",
    "                    curr_amount += 1\n",
    "                    curr_sum += inc\n",
    "            if curr_amount != 0:\n",
    "                res[i] = curr_sum / curr_amount\n",
    "        return res\n",
    "        \n",
    "    def gender_avg(self):\n",
    "        years = self.data.keys()\n",
    "        males = [0] * len(years)\n",
    "        females = [0] * len(years)\n",
    "        for i, year in enumerate(years):\n",
    "            male_sum = 0\n",
    "            female_sum = 0\n",
    "            male_amount = 0\n",
    "            female_amount = 0\n",
    "            for declaration in self.data[year]:\n",
    "                gender = declaration['main']['person']['gender']\n",
    "                inc = declaration['incomes'][0]['size']\n",
    "                if inc == inc:\n",
    "                    if gender == 'M':\n",
    "                        male_sum += inc\n",
    "                        male_amount += 1\n",
    "                    elif gender == 'F':\n",
    "                        female_sum += inc\n",
    "                        female_amount += 1\n",
    "            if male_amount != 0:\n",
    "                males[i] = male_sum / male_amount\n",
    "            if female_amount != 0:\n",
    "                females[i] = female_sum / female_amount\n",
    "        return males, females\n",
    "        \n",
    "    def party_avg(self):\n",
    "        parties = set()\n",
    "        years = self.data.keys()\n",
    "        for year in years:\n",
    "            for declaration in self.data[year]:\n",
    "                party = declaration['main']['party']\n",
    "                if party != party or party == None:\n",
    "                    parties.add('Н.Д.')\n",
    "                else:\n",
    "                    parties.add(party['name'])\n",
    "        return parties\n",
    "    #self.data - список по годам деклараций людей"
   ]
  },
  {
   "cell_type": "code",
   "execution_count": 89,
   "metadata": {},
   "outputs": [],
   "source": [
    "office = office_data(data)\n",
    "# office = office_data(12)"
   ]
  },
  {
   "cell_type": "code",
   "execution_count": 90,
   "metadata": {},
   "outputs": [
    {
     "data": {
      "text/plain": [
       "{'Единая Россия', 'Н.Д.'}"
      ]
     },
     "execution_count": 90,
     "metadata": {},
     "output_type": "execute_result"
    }
   ],
   "source": [
    "office.party_avg()"
   ]
  },
  {
   "cell_type": "code",
   "execution_count": null,
   "metadata": {},
   "outputs": [],
   "source": []
  },
  {
   "cell_type": "code",
   "execution_count": null,
   "metadata": {},
   "outputs": [],
   "source": []
  },
  {
   "cell_type": "code",
   "execution_count": 75,
   "metadata": {},
   "outputs": [],
   "source": [
    "data = office.data"
   ]
  },
  {
   "cell_type": "code",
   "execution_count": null,
   "metadata": {},
   "outputs": [],
   "source": []
  }
 ],
 "metadata": {
  "kernelspec": {
   "display_name": "Python 3",
   "language": "python",
   "name": "python3"
  },
  "language_info": {
   "codemirror_mode": {
    "name": "ipython",
    "version": 3
   },
   "file_extension": ".py",
   "mimetype": "text/x-python",
   "name": "python",
   "nbconvert_exporter": "python",
   "pygments_lexer": "ipython3",
   "version": "3.6.8"
  }
 },
 "nbformat": 4,
 "nbformat_minor": 4
}
