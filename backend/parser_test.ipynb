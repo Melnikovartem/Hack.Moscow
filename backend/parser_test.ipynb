{
 "cells": [
  {
   "cell_type": "code",
   "execution_count": 9,
   "metadata": {},
   "outputs": [],
   "source": [
    "import urllib\n",
    "import json"
   ]
  },
  {
   "cell_type": "code",
   "execution_count": 10,
   "metadata": {},
   "outputs": [],
   "source": [
    "class office_data:\n",
    "    ask = \"https://declarator.org/api/v1/search/sections/?office=\"\n",
    "    \n",
    "    def find_children(self):\n",
    "        raise NotImplementedError\n",
    "    \n",
    "    def __init__(self, office_id):\n",
    "        self.office_id = office_id\n",
    "        data_struct = {} \n",
    "        data = {'next':self.ask+str(office_id)}\n",
    "\n",
    "        while data[\"next\"]:\n",
    "            with urllib.request.urlopen(data[\"next\"]) as url:\n",
    "                data = json.loads(url.read().decode())\n",
    "            for i in data[\"results\"]:\n",
    "                if i[\"main\"][\"year\"] not in data_struct:\n",
    "                    data_struct[i[\"main\"][\"year\"]] = []\n",
    "                data_struct[i[\"main\"][\"year\"]].append(i)\n",
    "            print(data[\"next\"])\n",
    "        #надо обойти всех child и вызвать одну из функций sort\n",
    "        child_list = self.find_children()\n",
    "        for i in child_list:\n",
    "            child_data = get_data_office(i)\n",
    "            for j in child_data:\n",
    "                if j not in data_struct:\n",
    "                    data_struct[j] = []\n",
    "                data_struct[j] += child_data[j]\n",
    "\n",
    "        self.data = data_struct # данные всех деклараций по годам\n",
    "        self.family = 0 # учитывать ли семью\n",
    "        \n",
    "    def gender_avg(self):\n",
    "        pass\n",
    "    \n",
    "    def party_avg(self):\n",
    "        pass\n",
    "    \n",
    "    def car_avg(self):\n",
    "        pass\n",
    "    \n",
    "    def medium_sort(self): #delete me\n",
    "        return self.data\n",
    "    #self.data - список по годам деклараций людей"
   ]
  },
  {
   "cell_type": "code",
   "execution_count": 11,
   "metadata": {
    "scrolled": true
   },
   "outputs": [
    {
     "name": "stdout",
     "output_type": "stream",
     "text": [
      "https://declarator.org/api/v1/search/sections/?office=10&page=2\n",
      "https://declarator.org/api/v1/search/sections/?office=10&page=3\n",
      "https://declarator.org/api/v1/search/sections/?office=10&page=4\n",
      "https://declarator.org/api/v1/search/sections/?office=10&page=5\n",
      "https://declarator.org/api/v1/search/sections/?office=10&page=6\n",
      "https://declarator.org/api/v1/search/sections/?office=10&page=7\n",
      "https://declarator.org/api/v1/search/sections/?office=10&page=8\n",
      "https://declarator.org/api/v1/search/sections/?office=10&page=9\n",
      "https://declarator.org/api/v1/search/sections/?office=10&page=10\n",
      "https://declarator.org/api/v1/search/sections/?office=10&page=11\n",
      "https://declarator.org/api/v1/search/sections/?office=10&page=12\n",
      "https://declarator.org/api/v1/search/sections/?office=10&page=13\n",
      "None\n"
     ]
    },
    {
     "ename": "NotImplementedError",
     "evalue": "",
     "output_type": "error",
     "traceback": [
      "\u001b[0;31m---------------------------------------------------------------------------\u001b[0m",
      "\u001b[0;31mNotImplementedError\u001b[0m                       Traceback (most recent call last)",
      "\u001b[0;32m<ipython-input-11-c3712c92474f>\u001b[0m in \u001b[0;36m<module>\u001b[0;34m\u001b[0m\n\u001b[0;32m----> 1\u001b[0;31m \u001b[0ma\u001b[0m \u001b[0;34m=\u001b[0m \u001b[0moffice_data\u001b[0m\u001b[0;34m(\u001b[0m\u001b[0;36m10\u001b[0m\u001b[0;34m)\u001b[0m\u001b[0;34m\u001b[0m\u001b[0;34m\u001b[0m\u001b[0m\n\u001b[0m\u001b[1;32m      2\u001b[0m \u001b[0mlist\u001b[0m\u001b[0;34m(\u001b[0m\u001b[0ma\u001b[0m\u001b[0;34m.\u001b[0m\u001b[0mmedium_sort\u001b[0m\u001b[0;34m(\u001b[0m\u001b[0;34m)\u001b[0m\u001b[0;34m)\u001b[0m\u001b[0;34m\u001b[0m\u001b[0;34m\u001b[0m\u001b[0m\n",
      "\u001b[0;32m<ipython-input-10-65d29b136e76>\u001b[0m in \u001b[0;36m__init__\u001b[0;34m(self, office_id)\u001b[0m\n\u001b[1;32m     19\u001b[0m             \u001b[0mprint\u001b[0m\u001b[0;34m(\u001b[0m\u001b[0mdata\u001b[0m\u001b[0;34m[\u001b[0m\u001b[0;34m\"next\"\u001b[0m\u001b[0;34m]\u001b[0m\u001b[0;34m)\u001b[0m\u001b[0;34m\u001b[0m\u001b[0;34m\u001b[0m\u001b[0m\n\u001b[1;32m     20\u001b[0m         \u001b[0;31m#надо обойти всех child и вызвать одну из функций sort\u001b[0m\u001b[0;34m\u001b[0m\u001b[0;34m\u001b[0m\u001b[0;34m\u001b[0m\u001b[0m\n\u001b[0;32m---> 21\u001b[0;31m         \u001b[0mchild_list\u001b[0m \u001b[0;34m=\u001b[0m \u001b[0mself\u001b[0m\u001b[0;34m.\u001b[0m\u001b[0mfind_children\u001b[0m\u001b[0;34m(\u001b[0m\u001b[0;34m)\u001b[0m\u001b[0;34m\u001b[0m\u001b[0;34m\u001b[0m\u001b[0m\n\u001b[0m\u001b[1;32m     22\u001b[0m         \u001b[0;32mfor\u001b[0m \u001b[0mi\u001b[0m \u001b[0;32min\u001b[0m \u001b[0mchild_list\u001b[0m\u001b[0;34m:\u001b[0m\u001b[0;34m\u001b[0m\u001b[0;34m\u001b[0m\u001b[0m\n\u001b[1;32m     23\u001b[0m             \u001b[0mchild_data\u001b[0m \u001b[0;34m=\u001b[0m \u001b[0mget_data_office\u001b[0m\u001b[0;34m(\u001b[0m\u001b[0mi\u001b[0m\u001b[0;34m)\u001b[0m\u001b[0;34m\u001b[0m\u001b[0;34m\u001b[0m\u001b[0m\n",
      "\u001b[0;32m<ipython-input-10-65d29b136e76>\u001b[0m in \u001b[0;36mfind_children\u001b[0;34m(self)\u001b[0m\n\u001b[1;32m      3\u001b[0m \u001b[0;34m\u001b[0m\u001b[0m\n\u001b[1;32m      4\u001b[0m     \u001b[0;32mdef\u001b[0m \u001b[0mfind_children\u001b[0m\u001b[0;34m(\u001b[0m\u001b[0mself\u001b[0m\u001b[0;34m)\u001b[0m\u001b[0;34m:\u001b[0m\u001b[0;34m\u001b[0m\u001b[0;34m\u001b[0m\u001b[0m\n\u001b[0;32m----> 5\u001b[0;31m         \u001b[0;32mraise\u001b[0m \u001b[0mNotImplementedError\u001b[0m\u001b[0;34m\u001b[0m\u001b[0;34m\u001b[0m\u001b[0m\n\u001b[0m\u001b[1;32m      6\u001b[0m \u001b[0;34m\u001b[0m\u001b[0m\n\u001b[1;32m      7\u001b[0m     \u001b[0;32mdef\u001b[0m \u001b[0m__init__\u001b[0m\u001b[0;34m(\u001b[0m\u001b[0mself\u001b[0m\u001b[0;34m,\u001b[0m \u001b[0moffice_id\u001b[0m\u001b[0;34m)\u001b[0m\u001b[0;34m:\u001b[0m\u001b[0;34m\u001b[0m\u001b[0;34m\u001b[0m\u001b[0m\n",
      "\u001b[0;31mNotImplementedError\u001b[0m: "
     ]
    }
   ],
   "source": [
    "a = office_data(10)"
   ]
  },
  {
   "cell_type": "code",
   "execution_count": null,
   "metadata": {},
   "outputs": [],
   "source": []
  }
 ],
 "metadata": {
  "kernelspec": {
   "display_name": "Python 3",
   "language": "python",
   "name": "python3"
  },
  "language_info": {
   "codemirror_mode": {
    "name": "ipython",
    "version": 3
   },
   "file_extension": ".py",
   "mimetype": "text/x-python",
   "name": "python",
   "nbconvert_exporter": "python",
   "pygments_lexer": "ipython3",
   "version": "3.6.8"
  }
 },
 "nbformat": 4,
 "nbformat_minor": 4
}
