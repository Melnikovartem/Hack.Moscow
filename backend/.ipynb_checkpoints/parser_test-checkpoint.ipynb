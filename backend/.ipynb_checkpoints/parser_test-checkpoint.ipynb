{
 "cells": [
  {
   "cell_type": "code",
   "execution_count": 5,
   "metadata": {},
   "outputs": [],
   "source": [
    "import urllib\n",
    "import json"
   ]
  },
  {
   "cell_type": "code",
   "execution_count": 35,
   "metadata": {},
   "outputs": [],
   "source": [
    "class office_data:\n",
    "    ask = \"https://declarator.org/api/v1/search/sections/?office=\"\n",
    "    \n",
    "    def find_children(self):\n",
    "        return []\n",
    "\n",
    "    def __init__(self, office_id):\n",
    "        self.office_id = office_id\n",
    "        data_struct = {} \n",
    "        data = {'next':self.ask+str(office_id)}\n",
    "        while data[\"next\"]:\n",
    "            with urllib.request.urlopen(data[\"next\"]) as url:\n",
    "                data = json.loads(url.read().decode())\n",
    "            for i in data[\"results\"]:\n",
    "                if i[\"main\"][\"year\"] not in data_struct:\n",
    "                    data_struct[i[\"main\"][\"year\"]] = []\n",
    "                data_struct[i[\"main\"][\"year\"]].append(i)\n",
    "            print(data[\"next\"])\n",
    "        #надо обойти всех child и вызвать одну из функций sort\n",
    "        child_list = self.find_children()\n",
    "        for i in child_list:\n",
    "            child_data = get_data_office(i)\n",
    "            for j in child_data:\n",
    "                if j not in data_struct:\n",
    "                    data_struct[j] = []\n",
    "                data_struct[j] += child_data[j]\n",
    "\n",
    "        self.data = data_struct # данные всех деклараций по годам\n",
    "        self.family = 0 # учитывать ли семью\n",
    "        \n",
    "    def true_avg(self, typ):\n",
    "        years = self.data.keys()\n",
    "        res = [0]  * len(years)\n",
    "        for i, year in enumerate(years):\n",
    "            curr_sum = 0\n",
    "            curr_amount = 0\n",
    "            for declaration in self.data[year]:\n",
    "                for pep in declaration[typ]:\n",
    "                    inc = pep['size']\n",
    "                    if inc == inc:\n",
    "                        curr_amount += 1\n",
    "                        curr_sum += inc\n",
    "            if curr_amount != 0:\n",
    "                res[i] = curr_sum / curr_amount\n",
    "        for j in range(len(res)):\n",
    "            if res[j] ==0:\n",
    "                res[j] = None\n",
    "        return res\n",
    "        \n",
    "    def gender_avg(self, typ):\n",
    "        years = self.data.keys()\n",
    "        males = [0] * len(years)\n",
    "        females = [0] * len(years)\n",
    "        for i, year in enumerate(years):\n",
    "            male_sum = 0\n",
    "            female_sum = 0\n",
    "            male_amount = 0\n",
    "            female_amount = 0\n",
    "            for declaration in self.data[year]:\n",
    "                gender = declaration['main']['person']['gender']\n",
    "                for pep in declaration[typ]:\n",
    "                    inc = pep['size']\n",
    "                    if inc == inc:\n",
    "                        if gender == 'M':\n",
    "                            male_sum += inc\n",
    "                            male_amount += 1\n",
    "                        elif gender == 'F':\n",
    "                            female_sum += inc\n",
    "                            female_amount += 1\n",
    "            if male_amount != 0:\n",
    "                males[i] = male_sum / male_amount\n",
    "            if female_amount != 0:\n",
    "                females[i] = female_sum / female_amount\n",
    "        \n",
    "        for j in range(len(males)):\n",
    "            if males[j] ==0:\n",
    "                males[j] = None\n",
    "        for j in range(len(females)):\n",
    "            if females[j] ==0:\n",
    "                females[j] = None\n",
    "        return males, females\n",
    "        \n",
    "    def party_avg(self, typ):\n",
    "        parties = set()\n",
    "        years = self.data.keys()\n",
    "        for year in years:\n",
    "            for declaration in self.data[year]:\n",
    "                party = declaration['main']['party']\n",
    "                if party != party or party == None:\n",
    "                    parties.add('Нет Данных')\n",
    "                else:\n",
    "                    parties.add(party['name'])\n",
    "        res = {par : [0]*len(years) for par in parties}\n",
    "        for i, year in enumerate(years):\n",
    "            sums = {par : 0 for par in parties}\n",
    "            amounts = {par : 0 for par in parties}\n",
    "            for declaration in self.data[year]:\n",
    "                party = declaration['main']['party']\n",
    "                if party != party or party == None:\n",
    "                    party = 'Нет Данных'\n",
    "                else:\n",
    "                    party = party['name']\n",
    "                for pep in declaration[typ]:\n",
    "                    inc = pep['size']\n",
    "                    if inc == inc:\n",
    "                        sums[party] += inc\n",
    "                        amounts[party] += 1\n",
    "            for party in parties:\n",
    "                if amounts[party] != 0:\n",
    "                    res[party][i] = sums[party] / amounts[party]\n",
    "        for i in res:\n",
    "            for j in range(len(res[i])):\n",
    "                if res[i][j] ==0:\n",
    "                    res[i][j] = None\n",
    "        return res\n",
    "    #self.data - список по годам деклараций людей"
   ]
  },
  {
   "cell_type": "code",
   "execution_count": 36,
   "metadata": {},
   "outputs": [
    {
     "name": "stdout",
     "output_type": "stream",
     "text": [
      "https://declarator.org/api/v1/search/sections/?office=12&page=2\n",
      "None\n"
     ]
    }
   ],
   "source": [
    "office = office_data(12)\n",
    "# office = office_data(12)"
   ]
  },
  {
   "cell_type": "code",
   "execution_count": 37,
   "metadata": {},
   "outputs": [
    {
     "ename": "KeyError",
     "evalue": "'Н.Д.'",
     "output_type": "error",
     "traceback": [
      "\u001b[0;31m---------------------------------------------------------------------------\u001b[0m",
      "\u001b[0;31mKeyError\u001b[0m                                  Traceback (most recent call last)",
      "\u001b[0;32m<ipython-input-37-8d09f232bdc7>\u001b[0m in \u001b[0;36m<module>\u001b[0;34m\u001b[0m\n\u001b[0;32m----> 1\u001b[0;31m \u001b[0moffice\u001b[0m\u001b[0;34m.\u001b[0m\u001b[0mparty_avg\u001b[0m\u001b[0;34m(\u001b[0m\u001b[0;34m\"incomes\"\u001b[0m\u001b[0;34m)\u001b[0m\u001b[0;34m\u001b[0m\u001b[0;34m\u001b[0m\u001b[0m\n\u001b[0m",
      "\u001b[0;32m<ipython-input-35-0ff2e5835da1>\u001b[0m in \u001b[0;36mparty_avg\u001b[0;34m(self, typ)\u001b[0m\n\u001b[1;32m    104\u001b[0m                     \u001b[0minc\u001b[0m \u001b[0;34m=\u001b[0m \u001b[0mpep\u001b[0m\u001b[0;34m[\u001b[0m\u001b[0;34m'size'\u001b[0m\u001b[0;34m]\u001b[0m\u001b[0;34m\u001b[0m\u001b[0;34m\u001b[0m\u001b[0m\n\u001b[1;32m    105\u001b[0m                     \u001b[0;32mif\u001b[0m \u001b[0minc\u001b[0m \u001b[0;34m==\u001b[0m \u001b[0minc\u001b[0m\u001b[0;34m:\u001b[0m\u001b[0;34m\u001b[0m\u001b[0;34m\u001b[0m\u001b[0m\n\u001b[0;32m--> 106\u001b[0;31m                         \u001b[0msums\u001b[0m\u001b[0;34m[\u001b[0m\u001b[0mparty\u001b[0m\u001b[0;34m]\u001b[0m \u001b[0;34m+=\u001b[0m \u001b[0minc\u001b[0m\u001b[0;34m\u001b[0m\u001b[0;34m\u001b[0m\u001b[0m\n\u001b[0m\u001b[1;32m    107\u001b[0m                         \u001b[0mamounts\u001b[0m\u001b[0;34m[\u001b[0m\u001b[0mparty\u001b[0m\u001b[0;34m]\u001b[0m \u001b[0;34m+=\u001b[0m \u001b[0;36m1\u001b[0m\u001b[0;34m\u001b[0m\u001b[0;34m\u001b[0m\u001b[0m\n\u001b[1;32m    108\u001b[0m             \u001b[0;32mfor\u001b[0m \u001b[0mparty\u001b[0m \u001b[0;32min\u001b[0m \u001b[0mparties\u001b[0m\u001b[0;34m:\u001b[0m\u001b[0;34m\u001b[0m\u001b[0;34m\u001b[0m\u001b[0m\n",
      "\u001b[0;31mKeyError\u001b[0m: 'Н.Д.'"
     ]
    }
   ],
   "source": [
    "office.party_avg(\"incomes\")"
   ]
  },
  {
   "cell_type": "code",
   "execution_count": null,
   "metadata": {},
   "outputs": [],
   "source": []
  },
  {
   "cell_type": "code",
   "execution_count": null,
   "metadata": {},
   "outputs": [],
   "source": []
  },
  {
   "cell_type": "code",
   "execution_count": null,
   "metadata": {},
   "outputs": [],
   "source": []
  }
 ],
 "metadata": {
  "kernelspec": {
   "display_name": "Python 3",
   "language": "python",
   "name": "python3"
  },
  "language_info": {
   "codemirror_mode": {
    "name": "ipython",
    "version": 3
   },
   "file_extension": ".py",
   "mimetype": "text/x-python",
   "name": "python",
   "nbconvert_exporter": "python",
   "pygments_lexer": "ipython3",
   "version": "3.7.3"
  }
 },
 "nbformat": 4,
 "nbformat_minor": 4
}
